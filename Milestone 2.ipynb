{
 "cells": [
  {
   "cell_type": "markdown",
   "id": "300cb45c-3444-4513-9d4e-ec7e0ce7184a",
   "metadata": {},
   "source": [
    "**<center>Milestone 2: Model Development</center>**\n",
    "\n",
    "The objective of milestone 2 is to develop a machine learning model capable of accurately predicting house prices based on various features such as location, size, number of bedrooms, and market conditions.\n",
    "\n",
    "**What is model selection?**\n",
    "Model selection is the process of choosing the most appropriate machine learning algorithm(s) that can best learn the patterns from the data and make accurate predictions on unseen (test) data. Different algorithms work better for different types of data:\n",
    "\n",
    "1. Linear models work well when the relationship between features and target is mostly linear.\n",
    "\n",
    "2. Tree-based models perform better when the data has non-linear relationships or complex interactions between variables.\n",
    "\n",
    "3. Regularized models help avoid overfitting, especially with many features.\n",
    "\n",
    "Choosing the right models increases prediction accuracy, ensures good generalization to new data, and improves interpretability.\n",
    "\n"
   ]
  },
  {
   "cell_type": "code",
   "execution_count": 1,
   "id": "5fd5fa7e-d737-43ba-a557-5790da9d77d1",
   "metadata": {},
   "outputs": [],
   "source": [
    "# Import models and tools for evaluation\n",
    "from sklearn.linear_model import LinearRegression\n",
    "#Imports the Linear Regression model from scikit-learn to use for baseline prediction.\n",
    "from sklearn.ensemble import RandomForestRegressor\n",
    "#imports the Random Forest model, an advanced ensemble algorithm, from scikit-learn.\n",
    "from sklearn.metrics import mean_absolute_error, mean_squared_error, r2_score\n",
    "#Imports evaluation metrics to measure prediction error and model accuracy."
   ]
  },
  {
   "cell_type": "code",
   "execution_count": 2,
   "id": "4a3aa4de-a287-4700-b74b-c3daab1e58e1",
   "metadata": {},
   "outputs": [
    {
     "ename": "NameError",
     "evalue": "name 'X_train' is not defined",
     "output_type": "error",
     "traceback": [
      "\u001b[1;31m---------------------------------------------------------------------------\u001b[0m",
      "\u001b[1;31mNameError\u001b[0m                                 Traceback (most recent call last)",
      "Cell \u001b[1;32mIn[2], line 3\u001b[0m\n\u001b[0;32m      1\u001b[0m \u001b[38;5;66;03m# Step 1: Define and train Linear Regression model\u001b[39;00m\n\u001b[0;32m      2\u001b[0m linear_model \u001b[38;5;241m=\u001b[39m LinearRegression() \u001b[38;5;66;03m#Creates an instance of the Linear Regression model.\u001b[39;00m\n\u001b[1;32m----> 3\u001b[0m linear_model\u001b[38;5;241m.\u001b[39mfit(X_train, y_train)  \u001b[38;5;66;03m# Fit the model to the training data\u001b[39;00m\n\u001b[0;32m      4\u001b[0m linear_pred \u001b[38;5;241m=\u001b[39m linear_model\u001b[38;5;241m.\u001b[39mpredict(X_test)\n",
      "\u001b[1;31mNameError\u001b[0m: name 'X_train' is not defined"
     ]
    }
   ],
   "source": [
    "# Step 1: Define and train Linear Regression model\n",
    "linear_model = LinearRegression() #Creates an instance of the Linear Regression model.\n",
    "linear_model.fit(X_train, y_train)  # Fit the model to the training data\n",
    "linear_pred = linear_model.predict(X_test)  # Predict house prices on test data"
   ]
  },
  {
   "cell_type": "code",
   "execution_count": null,
   "id": "f42706ed-6555-47de-b490-4f10850ef131",
   "metadata": {},
   "outputs": [],
   "source": [
    "# Step 2: Define and train Random Forest model\n",
    "random_forest = RandomForestRegressor(random_state=42) #Creates a Random Forest model with a fixed random seed for reproducibility.\n",
    "random_forest.fit(X_train, y_train)  # Fit the model to the training data\n",
    "rf_pred = random_forest.predict(X_test)  # Predict house prices on test data"
   ]
  },
  {
   "cell_type": "code",
   "execution_count": null,
   "id": "ebe223a3-f37f-4f2a-ae10-35395a68442b",
   "metadata": {},
   "outputs": [],
   "source": [
    "#Step 3: Define an evaluation function\n",
    "def evaluate_model(y_true, y_pred):\n",
    "    \"\"\"\n",
    "    This function calculates and returns three evaluation metrics:\n",
    "    - MAE: Mean Absolute Error\n",
    "    - RMSE: Root Mean Squared Error\n",
    "    - R2 Score: How well the model explains the variance in target values\n",
    "    \"\"\"\n",
    "    mae = mean_absolute_error(y_true, y_pred) #Calculates the average absolute difference between actual and predicted values.\n",
    "    rmse = np.sqrt(mean_squared_error(y_true, y_pred))\n",
    "    r2 = r2_score(y_true, y_pred)\n",
    "    return round(mae, 2), round(rmse, 2), round(r2, 4) #Returns the three metrics rounded for readability."
   ]
  },
  {
   "cell_type": "code",
   "execution_count": null,
   "id": "0549ed70-0835-4db9-a4c6-586c87391970",
   "metadata": {},
   "outputs": [],
   "source": [
    "# Step 4: Evaluate both models\n",
    "lr_mae, lr_rmse, lr_r2 = evaluate_model(y_test, linear_pred)\n",
    "rf_mae, rf_rmse, rf_r2 = evaluate_model(y_test, rf_pred)"
   ]
  },
  {
   "cell_type": "code",
   "execution_count": null,
   "id": "70106cae-e576-4b73-ac9b-fd6db266dca8",
   "metadata": {},
   "outputs": [],
   "source": [
    "# Step 5: Store results in a comparison table\n",
    "results = pd.DataFrame({\n",
    "    'Model': ['Linear Regression', 'Random Forest'], #model names as a column in the results table.\n",
    "    'MAE': [lr_mae, rf_mae], #Adds Mean Absolute Error scores for both models.\n",
    "    'RMSE': [lr_rmse, rf_rmse], #Adds Root Mean Squared Error scores for both models.\n",
    "    'R2 Score': [lr_r2, rf_r2] #Adds R² scores for both models and completes the table.\n",
    "})"
   ]
  },
  {
   "cell_type": "code",
   "execution_count": null,
   "id": "3daefa07-7be2-43f4-8da5-2b5adb46960f",
   "metadata": {},
   "outputs": [],
   "source": [
    "# Display the comparison\n",
    "results"
   ]
  },
  {
   "cell_type": "code",
   "execution_count": null,
   "id": "d34edc46-3458-41f4-b663-b93ca20f095b",
   "metadata": {},
   "outputs": [],
   "source": [
    "#Visualizing the Comparison\n",
    "#Imports Matplotlib library for creating plots and charts.\n",
    "import matplotlib.pyplot as plt\n",
    "\n",
    "# Set figure size\n",
    "plt.figure(figsize=(8, 5))\n",
    "\n",
    "# Create bar chart for RMSE\n",
    "plt.bar(results['Model'], results['RMSE'], color=['pink', 'black'])\n",
    "plt.title('Model Comparison: RMSE') #Adds a title to the chart for clarity.\n",
    "plt.ylabel('Root Mean Squared Error (RMSE) - Lower is Better')\n",
    "plt.grid(True)\n",
    "plt.show()"
   ]
  },
  {
   "cell_type": "markdown",
   "id": "0de2d143-fb12-487f-a6bf-78f328b5ca3f",
   "metadata": {},
   "source": [
    "Model Evaluation Summary\n",
    "\n",
    "After training and evaluating both models, we observed the following:\n",
    "\n",
    "Linear Regression performed reasonably well but assumes a straight-line relationship, which is not always realistic for housing prices.\n",
    "Random Forest delivered significantly better performance with a lower RMSE and a higher R² score.\n",
    "This suggests that Random Forest was able to capture more complex patterns in the data, such as interactions between location, size, and number of bedrooms.\n",
    "\n",
    "Therefore, we selected Random Forest as our final model."
   ]
  }
 ],
 "metadata": {
  "kernelspec": {
   "display_name": "Python [conda env:base] *",
   "language": "python",
   "name": "conda-base-py"
  },
  "language_info": {
   "codemirror_mode": {
    "name": "ipython",
    "version": 3
   },
   "file_extension": ".py",
   "mimetype": "text/x-python",
   "name": "python",
   "nbconvert_exporter": "python",
   "pygments_lexer": "ipython3",
   "version": "3.12.7"
  }
 },
 "nbformat": 4,
 "nbformat_minor": 5
}
